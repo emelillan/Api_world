{
 "cells": [
  {
   "cell_type": "code",
   "execution_count": 5,
   "metadata": {},
   "outputs": [],
   "source": [
    "import pandas as pd\n",
    "from google.oauth2.credentials import Credentials\n",
    "from googleapiclient.discovery import build"
   ]
  },
  {
   "cell_type": "code",
   "execution_count": 3,
   "metadata": {},
   "outputs": [],
   "source": [
    "# If modifying these scopes, delete the file token.json.\n",
    "SCOPES = ['https://www.googleapis.com/auth/spreadsheets.readonly']\n",
    "\n",
    "creds = Credentials.from_authorized_user_file('token.json', SCOPES)"
   ]
  },
  {
   "cell_type": "code",
   "execution_count": 4,
   "metadata": {},
   "outputs": [],
   "source": [
    "# The ID and range of a sample spreadsheet.\n",
    "SAMPLE_SPREADSHEET_ID = '1LIg8WgEcycm9nCoeXYpxQQqiZujuF4eaSlauIJQP8r8'\n",
    "SAMPLE_RANGE_NAME = 'Sheet1!A1:D20'"
   ]
  },
  {
   "cell_type": "code",
   "execution_count": 6,
   "metadata": {},
   "outputs": [],
   "source": [
    "service = build('sheets', 'v4', credentials=creds)\n",
    "# Call the Sheets API\n",
    "sheet = service.spreadsheets()\n",
    "result = sheet.values().get(spreadsheetId=SAMPLE_SPREADSHEET_ID,\n",
    "                            range=SAMPLE_RANGE_NAME).execute()\n",
    "values = result.get('values', [])\n",
    "\n",
    "\n"
   ]
  },
  {
   "cell_type": "code",
   "execution_count": 7,
   "metadata": {},
   "outputs": [
    {
     "data": {
      "text/plain": [
       "[['Testing', 'try', 'Solve', 'Z'],\n",
       " ['1', '0.3362146039', '0.3362146039', '0.298840727'],\n",
       " ['2', '1.302835007', '0.6514175035', '0.3093721745'],\n",
       " ['3', '1.733915846', '0.5779719486', '0.3569828967'],\n",
       " ['4', '2.482977739', '0.6207444347', '0.3325376662'],\n",
       " ['5', '0.9382279016', '0.1876455803', '0.1394180568'],\n",
       " ['6', '4.949368685', '0.8248947808', '0.1251833426'],\n",
       " ['7', '0.2611127063', '0.03730181518', '0.007737336558'],\n",
       " ['8', '2.876702391', '0.3595877989', '0.3181854674'],\n",
       " ['9', '1.967770171', '0.2186411301', '0.1751120654'],\n",
       " ['10', '3.422443178', '0.3422443178', '0.3040555676'],\n",
       " ['11', '2.688161597', '0.244378327', '0.2045904875'],\n",
       " ['12', '4.714548016', '0.3928790013', '0.3413653161'],\n",
       " ['13', '11.87181251', '0.9132163467', '0.03768551554'],\n",
       " ['14', '13.10202887', '0.935859205', '0.02161926675'],\n",
       " ['15', '13.17087537', '0.878058358', '0.06878632228'],\n",
       " ['16', '7.60110385', '0.4750689906', '0.3731376523'],\n",
       " ['17', '15.85524439', '0.9326614345', '0.02366611714'],\n",
       " ['18', '15.48678627', '0.860377015', '0.08658500514']]"
      ]
     },
     "execution_count": 7,
     "metadata": {},
     "output_type": "execute_result"
    }
   ],
   "source": [
    "values"
   ]
  },
  {
   "cell_type": "code",
   "execution_count": 10,
   "metadata": {},
   "outputs": [],
   "source": [
    "df = pd.DataFrame(values[1:], columns=values[0])"
   ]
  },
  {
   "cell_type": "code",
   "execution_count": 11,
   "metadata": {},
   "outputs": [
    {
     "data": {
      "text/html": [
       "<div>\n",
       "<style scoped>\n",
       "    .dataframe tbody tr th:only-of-type {\n",
       "        vertical-align: middle;\n",
       "    }\n",
       "\n",
       "    .dataframe tbody tr th {\n",
       "        vertical-align: top;\n",
       "    }\n",
       "\n",
       "    .dataframe thead th {\n",
       "        text-align: right;\n",
       "    }\n",
       "</style>\n",
       "<table border=\"1\" class=\"dataframe\">\n",
       "  <thead>\n",
       "    <tr style=\"text-align: right;\">\n",
       "      <th></th>\n",
       "      <th>Testing</th>\n",
       "      <th>try</th>\n",
       "      <th>Solve</th>\n",
       "      <th>Z</th>\n",
       "    </tr>\n",
       "  </thead>\n",
       "  <tbody>\n",
       "    <tr>\n",
       "      <th>0</th>\n",
       "      <td>1</td>\n",
       "      <td>0.3362146039</td>\n",
       "      <td>0.3362146039</td>\n",
       "      <td>0.298840727</td>\n",
       "    </tr>\n",
       "    <tr>\n",
       "      <th>1</th>\n",
       "      <td>2</td>\n",
       "      <td>1.302835007</td>\n",
       "      <td>0.6514175035</td>\n",
       "      <td>0.3093721745</td>\n",
       "    </tr>\n",
       "    <tr>\n",
       "      <th>2</th>\n",
       "      <td>3</td>\n",
       "      <td>1.733915846</td>\n",
       "      <td>0.5779719486</td>\n",
       "      <td>0.3569828967</td>\n",
       "    </tr>\n",
       "    <tr>\n",
       "      <th>3</th>\n",
       "      <td>4</td>\n",
       "      <td>2.482977739</td>\n",
       "      <td>0.6207444347</td>\n",
       "      <td>0.3325376662</td>\n",
       "    </tr>\n",
       "    <tr>\n",
       "      <th>4</th>\n",
       "      <td>5</td>\n",
       "      <td>0.9382279016</td>\n",
       "      <td>0.1876455803</td>\n",
       "      <td>0.1394180568</td>\n",
       "    </tr>\n",
       "  </tbody>\n",
       "</table>\n",
       "</div>"
      ],
      "text/plain": [
       "  Testing           try         Solve             Z\n",
       "0       1  0.3362146039  0.3362146039   0.298840727\n",
       "1       2   1.302835007  0.6514175035  0.3093721745\n",
       "2       3   1.733915846  0.5779719486  0.3569828967\n",
       "3       4   2.482977739  0.6207444347  0.3325376662\n",
       "4       5  0.9382279016  0.1876455803  0.1394180568"
      ]
     },
     "execution_count": 11,
     "metadata": {},
     "output_type": "execute_result"
    }
   ],
   "source": [
    "df.head()"
   ]
  },
  {
   "cell_type": "code",
   "execution_count": null,
   "metadata": {},
   "outputs": [],
   "source": []
  }
 ],
 "metadata": {
  "interpreter": {
   "hash": "990cd5d8dbf86be36e754e4264935594bf13ea402399bacfc13558936a7d2a9d"
  },
  "kernelspec": {
   "display_name": "Python 3.9.5 64-bit ('env': venv)",
   "language": "python",
   "name": "python3"
  },
  "language_info": {
   "codemirror_mode": {
    "name": "ipython",
    "version": 3
   },
   "file_extension": ".py",
   "mimetype": "text/x-python",
   "name": "python",
   "nbconvert_exporter": "python",
   "pygments_lexer": "ipython3",
   "version": "3.9.5"
  },
  "orig_nbformat": 4
 },
 "nbformat": 4,
 "nbformat_minor": 2
}
