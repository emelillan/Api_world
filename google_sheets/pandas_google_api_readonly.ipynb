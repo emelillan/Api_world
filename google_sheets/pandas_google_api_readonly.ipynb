{
 "cells": [
  {
   "cell_type": "code",
   "execution_count": 1,
   "metadata": {},
   "outputs": [],
   "source": [
    "import pandas as pd\n",
    "from google.oauth2.credentials import Credentials\n",
    "from googleapiclient.discovery import build"
   ]
  },
  {
   "cell_type": "code",
   "execution_count": 2,
   "metadata": {},
   "outputs": [],
   "source": [
    "# If modifying these scopes, delete the file token.json.\n",
    "SCOPES = ['https://www.googleapis.com/auth/spreadsheets.readonly']\n",
    "\n",
    "creds = Credentials.from_authorized_user_file('token.json', SCOPES)"
   ]
  },
  {
   "cell_type": "code",
   "execution_count": 3,
   "metadata": {},
   "outputs": [],
   "source": [
    "# The ID and range of a sample spreadsheet.\n",
    "SAMPLE_SPREADSHEET_ID = '1LIg8WgEcycm9nCoeXYpxQQqiZujuF4eaSlauIJQP8r8'\n",
    "SAMPLE_RANGE_NAME = 'Sheet1!A1:D21'"
   ]
  },
  {
   "cell_type": "code",
   "execution_count": 4,
   "metadata": {},
   "outputs": [],
   "source": [
    "service = build('sheets', 'v4', credentials=creds)\n",
    "# Call the Sheets API\n",
    "sheet = service.spreadsheets()\n",
    "result = sheet.values().get(spreadsheetId=SAMPLE_SPREADSHEET_ID,\n",
    "                            range=SAMPLE_RANGE_NAME).execute()\n",
    "values = result.get('values', [])\n",
    "\n",
    "\n"
   ]
  },
  {
   "cell_type": "code",
   "execution_count": 5,
   "metadata": {},
   "outputs": [
    {
     "data": {
      "text/plain": [
       "[['Testing', 'try', 'Solve', 'Z'],\n",
       " ['1', '0.4682711418', '0.4682711418', '0.3719859196'],\n",
       " ['2', '1.34894284', '0.6744714198', '0.2892388335'],\n",
       " ['3', '1.541334244', '0.5137780814', '0.3744307096'],\n",
       " ['4', '2.798631976', '0.6996579939', '0.2649445595'],\n",
       " ['5', '1.477324873', '0.2954649746', '0.259997061'],\n",
       " ['6', '4.820331362', '0.8033885603', '0.1496994153'],\n",
       " ['7', '0.6721958471', '0.09602797815', '0.04521232062'],\n",
       " ['8', '4.744842969', '0.5931053711', '0.3494450384'],\n",
       " ['9', '6.526176513', '0.7251307237', '0.2383615833'],\n",
       " ['10', '7.958294085', '0.7958294085', '0.1584081755'],\n",
       " ['11', '10.9793245', '0.9981204091', '0.00002111756169'],\n",
       " ['12', '8.572049313', '0.7143374427', '0.2498415809'],\n",
       " ['13', '7.932495354', '0.6101919503', '0.33945781'],\n",
       " ['14', '12.54799222', '0.8962851586', '0.05184722006'],\n",
       " ['15', '9.079006265', '0.6052670843', '0.3424932754'],\n",
       " ['16', '8.991318753', '0.561957422', '0.3635722483'],\n",
       " ['17', '3.061492771', '0.18008781', '0.1308141039'],\n",
       " ['18', '13.00390508', '0.7224391711', '0.2412515839'],\n",
       " ['BADS', '123.45', 'TRUE', '=MAX(D2:D4)']]"
      ]
     },
     "execution_count": 5,
     "metadata": {},
     "output_type": "execute_result"
    }
   ],
   "source": [
    "values"
   ]
  },
  {
   "cell_type": "code",
   "execution_count": 6,
   "metadata": {},
   "outputs": [],
   "source": [
    "df = pd.DataFrame(values[1:], columns=values[0])"
   ]
  },
  {
   "cell_type": "code",
   "execution_count": 7,
   "metadata": {},
   "outputs": [
    {
     "data": {
      "text/html": [
       "<div>\n",
       "<style scoped>\n",
       "    .dataframe tbody tr th:only-of-type {\n",
       "        vertical-align: middle;\n",
       "    }\n",
       "\n",
       "    .dataframe tbody tr th {\n",
       "        vertical-align: top;\n",
       "    }\n",
       "\n",
       "    .dataframe thead th {\n",
       "        text-align: right;\n",
       "    }\n",
       "</style>\n",
       "<table border=\"1\" class=\"dataframe\">\n",
       "  <thead>\n",
       "    <tr style=\"text-align: right;\">\n",
       "      <th></th>\n",
       "      <th>Testing</th>\n",
       "      <th>try</th>\n",
       "      <th>Solve</th>\n",
       "      <th>Z</th>\n",
       "    </tr>\n",
       "  </thead>\n",
       "  <tbody>\n",
       "    <tr>\n",
       "      <th>0</th>\n",
       "      <td>1</td>\n",
       "      <td>0.4682711418</td>\n",
       "      <td>0.4682711418</td>\n",
       "      <td>0.3719859196</td>\n",
       "    </tr>\n",
       "    <tr>\n",
       "      <th>1</th>\n",
       "      <td>2</td>\n",
       "      <td>1.34894284</td>\n",
       "      <td>0.6744714198</td>\n",
       "      <td>0.2892388335</td>\n",
       "    </tr>\n",
       "    <tr>\n",
       "      <th>2</th>\n",
       "      <td>3</td>\n",
       "      <td>1.541334244</td>\n",
       "      <td>0.5137780814</td>\n",
       "      <td>0.3744307096</td>\n",
       "    </tr>\n",
       "    <tr>\n",
       "      <th>3</th>\n",
       "      <td>4</td>\n",
       "      <td>2.798631976</td>\n",
       "      <td>0.6996579939</td>\n",
       "      <td>0.2649445595</td>\n",
       "    </tr>\n",
       "    <tr>\n",
       "      <th>4</th>\n",
       "      <td>5</td>\n",
       "      <td>1.477324873</td>\n",
       "      <td>0.2954649746</td>\n",
       "      <td>0.259997061</td>\n",
       "    </tr>\n",
       "  </tbody>\n",
       "</table>\n",
       "</div>"
      ],
      "text/plain": [
       "  Testing           try         Solve             Z\n",
       "0       1  0.4682711418  0.4682711418  0.3719859196\n",
       "1       2    1.34894284  0.6744714198  0.2892388335\n",
       "2       3   1.541334244  0.5137780814  0.3744307096\n",
       "3       4   2.798631976  0.6996579939  0.2649445595\n",
       "4       5   1.477324873  0.2954649746   0.259997061"
      ]
     },
     "execution_count": 7,
     "metadata": {},
     "output_type": "execute_result"
    }
   ],
   "source": [
    "df.head()"
   ]
  },
  {
   "cell_type": "code",
   "execution_count": 8,
   "metadata": {},
   "outputs": [
    {
     "data": {
      "text/html": [
       "<div>\n",
       "<style scoped>\n",
       "    .dataframe tbody tr th:only-of-type {\n",
       "        vertical-align: middle;\n",
       "    }\n",
       "\n",
       "    .dataframe tbody tr th {\n",
       "        vertical-align: top;\n",
       "    }\n",
       "\n",
       "    .dataframe thead th {\n",
       "        text-align: right;\n",
       "    }\n",
       "</style>\n",
       "<table border=\"1\" class=\"dataframe\">\n",
       "  <thead>\n",
       "    <tr style=\"text-align: right;\">\n",
       "      <th></th>\n",
       "      <th>Testing</th>\n",
       "      <th>try</th>\n",
       "      <th>Solve</th>\n",
       "      <th>Z</th>\n",
       "    </tr>\n",
       "  </thead>\n",
       "  <tbody>\n",
       "    <tr>\n",
       "      <th>14</th>\n",
       "      <td>15</td>\n",
       "      <td>9.079006265</td>\n",
       "      <td>0.6052670843</td>\n",
       "      <td>0.3424932754</td>\n",
       "    </tr>\n",
       "    <tr>\n",
       "      <th>15</th>\n",
       "      <td>16</td>\n",
       "      <td>8.991318753</td>\n",
       "      <td>0.561957422</td>\n",
       "      <td>0.3635722483</td>\n",
       "    </tr>\n",
       "    <tr>\n",
       "      <th>16</th>\n",
       "      <td>17</td>\n",
       "      <td>3.061492771</td>\n",
       "      <td>0.18008781</td>\n",
       "      <td>0.1308141039</td>\n",
       "    </tr>\n",
       "    <tr>\n",
       "      <th>17</th>\n",
       "      <td>18</td>\n",
       "      <td>13.00390508</td>\n",
       "      <td>0.7224391711</td>\n",
       "      <td>0.2412515839</td>\n",
       "    </tr>\n",
       "    <tr>\n",
       "      <th>18</th>\n",
       "      <td>BADS</td>\n",
       "      <td>123.45</td>\n",
       "      <td>TRUE</td>\n",
       "      <td>=MAX(D2:D4)</td>\n",
       "    </tr>\n",
       "  </tbody>\n",
       "</table>\n",
       "</div>"
      ],
      "text/plain": [
       "   Testing          try         Solve             Z\n",
       "14      15  9.079006265  0.6052670843  0.3424932754\n",
       "15      16  8.991318753   0.561957422  0.3635722483\n",
       "16      17  3.061492771    0.18008781  0.1308141039\n",
       "17      18  13.00390508  0.7224391711  0.2412515839\n",
       "18    BADS       123.45          TRUE   =MAX(D2:D4)"
      ]
     },
     "execution_count": 8,
     "metadata": {},
     "output_type": "execute_result"
    }
   ],
   "source": [
    "df.tail()"
   ]
  },
  {
   "cell_type": "code",
   "execution_count": null,
   "metadata": {},
   "outputs": [],
   "source": []
  }
 ],
 "metadata": {
  "interpreter": {
   "hash": "990cd5d8dbf86be36e754e4264935594bf13ea402399bacfc13558936a7d2a9d"
  },
  "kernelspec": {
   "display_name": "Python 3.9.5 64-bit ('env': venv)",
   "language": "python",
   "name": "python3"
  },
  "language_info": {
   "codemirror_mode": {
    "name": "ipython",
    "version": 3
   },
   "file_extension": ".py",
   "mimetype": "text/x-python",
   "name": "python",
   "nbconvert_exporter": "python",
   "pygments_lexer": "ipython3",
   "version": "3.9.5"
  },
  "orig_nbformat": 4
 },
 "nbformat": 4,
 "nbformat_minor": 2
}
