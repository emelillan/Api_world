{
 "cells": [
  {
   "cell_type": "code",
   "execution_count": 1,
   "metadata": {},
   "outputs": [],
   "source": [
    "import pandas as pd\n",
    "from google.oauth2.credentials import Credentials\n",
    "from googleapiclient.discovery import build"
   ]
  },
  {
   "cell_type": "code",
   "execution_count": 2,
   "metadata": {},
   "outputs": [],
   "source": [
    "# If modifying these scopes, delete the file token.json.\n",
    "SCOPES = ['https://www.googleapis.com/auth/spreadsheets']\n",
    "creds = Credentials.from_authorized_user_file('token_update.json', SCOPES)"
   ]
  },
  {
   "cell_type": "code",
   "execution_count": 3,
   "metadata": {},
   "outputs": [],
   "source": [
    "# The ID and range of a sample spreadsheet.\n",
    "SAMPLE_SPREADSHEET_ID = '1LIg8WgEcycm9nCoeXYpxQQqiZujuF4eaSlauIJQP8r8'\n",
    "SAMPLE_RANGE_NAME = 'Sheet1!A20:E20'"
   ]
  },
  {
   "cell_type": "code",
   "execution_count": 4,
   "metadata": {},
   "outputs": [],
   "source": [
    "service = build('sheets', 'v4', credentials=creds)\n",
    "# # Call the Sheets API\n",
    "# sheet = service.spreadsheets()\n",
    "# result = sheet.values().update(spreadsheetId=SAMPLE_SPREADSHEET_ID,\n",
    "#                             range=SAMPLE_RANGE_NAME).execute()\n",
    "# values = result.get('values', [])\n",
    "\n",
    "\n"
   ]
  },
  {
   "cell_type": "code",
   "execution_count": 6,
   "metadata": {},
   "outputs": [],
   "source": [
    "# How the input data should be interpreted.\n",
    "value_input_option = ''  # TODO: Update placeholder value.\n",
    "\n",
    "value_range_body = {\n",
    "  \"range\": \"Sheet1!A20:E20\",\n",
    "  \"majorDimension\": \"ROWS\",\n",
    "  \"values\": [\n",
    "    [\"BADS\", 123.45, True, \"=MAX(D2:D4)\", \"10\"]\n",
    "  ],\n",
    "}\n",
    "\n",
    "request = service.spreadsheets().values().update(spreadsheetId=SAMPLE_SPREADSHEET_ID,\n",
    "                                                range=SAMPLE_RANGE_NAME,\n",
    "                                                valueInputOption='RAW',\n",
    "                                                body=value_range_body)\n",
    "response = request.execute()\n"
   ]
  },
  {
   "cell_type": "code",
   "execution_count": null,
   "metadata": {},
   "outputs": [],
   "source": []
  }
 ],
 "metadata": {
  "interpreter": {
   "hash": "0805539e027622ea7cc55db5ccaf0c7709c2aad590e3d27595a08cb6e9448c4f"
  },
  "kernelspec": {
   "display_name": "Python 3.9.5 64-bit ('env': venv)",
   "language": "python",
   "name": "python3"
  },
  "language_info": {
   "codemirror_mode": {
    "name": "ipython",
    "version": 3
   },
   "file_extension": ".py",
   "mimetype": "text/x-python",
   "name": "python",
   "nbconvert_exporter": "python",
   "pygments_lexer": "ipython3",
   "version": "3.9.5"
  },
  "orig_nbformat": 4
 },
 "nbformat": 4,
 "nbformat_minor": 2
}
