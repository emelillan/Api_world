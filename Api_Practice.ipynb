{
  "nbformat": 4,
  "nbformat_minor": 0,
  "metadata": {
    "colab": {
      "name": "Api-Practice.ipynb",
      "provenance": [],
      "collapsed_sections": [
        "OSkfGO-4pDQF",
        "aPKg6sJapG3O",
        "bx_XhXZElX6A",
        "k4NoEQJZmCq1"
      ]
    },
    "kernelspec": {
      "name": "python3",
      "display_name": "Python 3"
    },
    "language_info": {
      "name": "python"
    }
  },
  "cells": [
    {
      "cell_type": "markdown",
      "source": [
        "# API - REQUEST - CURL"
      ],
      "metadata": {
        "id": "RASeKqhw5Jeo"
      }
    },
    {
      "cell_type": "markdown",
      "metadata": {
        "id": "OSkfGO-4pDQF"
      },
      "source": [
        "# Curl - Intro"
      ]
    },
    {
      "cell_type": "markdown",
      "metadata": {
        "id": "E3I15axCpGyV"
      },
      "source": [
        "## Common Options\n",
        "\n",
        "`-#, --progress-bar`\n",
        "        Make curl display a simple progress bar instead of the more informational standard meter.\n",
        "\n",
        "`-b, --cookie <name=data>`\n",
        "        Supply cookie with request. If no `=`, then specifies the cookie file to use (see `-c`).\n",
        "\n",
        "`-c, --cookie-jar <file name>`\n",
        "        File to save response cookies to.\n",
        "\n",
        "`-d, --data <data>`\n",
        "        Send specified data in POST request. Details provided below.\n",
        "\n",
        "`-f, --fail`\n",
        "        Fail silently (don't output HTML error form if returned). \n",
        "\n",
        "`-F, --form <name=content>`\n",
        "        Submit form data.\n",
        "\n",
        "`-H, --header <header>`\n",
        "        Headers to supply with request.\n",
        "\n",
        "`-i, --include`\n",
        "        Include HTTP headers in the output.\n",
        "\n",
        "`-I, --head`\n",
        "        Fetch headers only.\n",
        "\n",
        "`-k, --insecure`\n",
        "        Allow insecure connections to succeed.\n",
        "\n",
        "`-L, --location`\n",
        "        Follow redirects.\n",
        "\n",
        "`-o, --output <file>`\n",
        "        Write output to <file>. Can use `--create-dirs` in conjunction with this to create any directories\n",
        "        specified in the `-o` path.\n",
        "\n",
        "`-O, --remote-name`\n",
        "        Write output to file named like the remote file (only writes to current directory).\n",
        "\n",
        "`-s, --silent`\n",
        "        Silent (quiet) mode. Use with `-S` to force it to show errors.\n",
        "\n",
        "`-v, --verbose`\n",
        "        Provide more information (useful for debugging).\n",
        "\n",
        "`-w, --write-out <format>`\n",
        "        Make curl display information on stdout after a completed transfer. See man page for more details on\n",
        "        available variables. Convenient way to force curl to append a newline to output: `-w \"\\n\"` (can add\n",
        "        to `~/.curlrc`).\n",
        "        \n",
        "`-X, --request`\n",
        "        The request method to use.\n",
        "\n",
        "\n",
        "## POST\n",
        "\n",
        "When sending data via a POST or PUT request, two common formats (specified via the `Content-Type` header) are:\n",
        "  * `application/json`\n",
        "  * `application/x-www-form-urlencoded`\n",
        "\n",
        "Many APIs will accept both formats, so if you're using `curl` at the command line, it can be a bit easier to use the form urlencoded format instead of json because\n",
        "  * the json format requires a bunch of extra quoting\n",
        "  * curl will send form urlencoded by default, so for json the `Content-Type` header must be explicitly set\n",
        "\n",
        "This gist provides examples for using both formats, including how to use sample data files in either format with your `curl` requests.\n",
        "\n",
        "## curl usage\n",
        "\n",
        "For sending data with POST and PUT requests, these are common `curl` options:\n",
        "\n",
        " * request type\n",
        "   * `-X POST`\n",
        "   * `-X PUT`\n",
        "\n",
        " * content type header\n",
        "  * `-H \"Content-Type: application/x-www-form-urlencoded\"`\n",
        "  * `-H \"Content-Type: application/json\"`\n",
        " \n",
        "* data\n",
        "  * form urlencoded: `-d \"param1=value1&param2=value2\"` or `-d @data.txt`\n",
        "  * json: `-d '{\"key1\":\"value1\", \"key2\":\"value2\"}'` or `-d @data.json`\n",
        "  \n",
        "## Examples\n",
        "\n",
        "### POST application/x-www-form-urlencoded\n",
        "\n",
        "`application/x-www-form-urlencoded` is the default:\n",
        "\n",
        "    curl -d \"param1=value1&param2=value2\" -X POST http://localhost:3000/data\n",
        "\n",
        "explicit:\n",
        "\n",
        "    curl -d \"param1=value1&param2=value2\" -H \"Content-Type: application/x-www-form-urlencoded\" -X POST http://localhost:3000/data\n",
        "\n",
        "with a data file\n",
        " \n",
        "    curl -d \"@data.txt\" -X POST http://localhost:3000/data\n",
        "\n",
        "### POST application/json\n",
        "\n",
        "    curl -d '{\"key1\":\"value1\", \"key2\":\"value2\"}' -H \"Content-Type: application/json\" -X POST http://localhost:3000/data\n",
        "    \n",
        "with a data file\n",
        " \n",
        "    curl -d \"@data.json\" -X POST http://localhost:3000/data\n",
        "\n"
      ]
    },
    {
      "cell_type": "markdown",
      "metadata": {
        "id": "aPKg6sJapG3O"
      },
      "source": [
        "# Requests"
      ]
    },
    {
      "cell_type": "code",
      "metadata": {
        "id": "V5NmosdIXUDI"
      },
      "source": [
        "import requests\n",
        "import pandas as pd\n",
        "import numpy as np"
      ],
      "execution_count": null,
      "outputs": []
    },
    {
      "cell_type": "code",
      "metadata": {
        "id": "4K9Va-WBX86r"
      },
      "source": [
        "# generalmente vamos a necesitar una API_key que nos proveean.\n",
        "# a veces va en el cuerpo del request (no es lo mas seguro pero las gratis a veces lo permiten) aunque generalmente uno se autentifica primero en un endpoint, y obtiene una sesion autorizada. \n",
        "\n",
        "API_key= '238be0ed9a3f17b46db62276edc4dc96'"
      ],
      "execution_count": null,
      "outputs": []
    },
    {
      "cell_type": "code",
      "metadata": {
        "id": "ZnrMpJHAYEu5"
      },
      "source": [
        "city_name = 'buenos aires'"
      ],
      "execution_count": null,
      "outputs": []
    },
    {
      "cell_type": "code",
      "metadata": {
        "id": "3NYz0G8iXY2n"
      },
      "source": [
        "buenos_aires = f'http://api.openweathermap.org/data/2.5/weather?q={city_name}&appid={API_key}'\n",
        "londres = f'http://api.openweathermap.org/data/2.5/weather?q=London&appid={API_key}'"
      ],
      "execution_count": null,
      "outputs": []
    },
    {
      "cell_type": "code",
      "metadata": {
        "id": "aLgPFYyUZgU3"
      },
      "source": [
        "r = requests.get(buenos_aires)"
      ],
      "execution_count": null,
      "outputs": []
    },
    {
      "cell_type": "code",
      "metadata": {
        "colab": {
          "base_uri": "https://localhost:8080/",
          "height": 86
        },
        "id": "gSZWCojZgd25",
        "outputId": "b5b8cbf8-7f40-4b0d-82d2-d6409337ffc6"
      },
      "source": [
        "# Asi viene el response. Es un string, entonces para operar tenemos que usar el metodo .json() que lo transforma en un Diccionario.\n",
        "r.text"
      ],
      "execution_count": null,
      "outputs": [
        {
          "output_type": "execute_result",
          "data": {
            "application/vnd.google.colaboratory.intrinsic+json": {
              "type": "string"
            },
            "text/plain": [
              "'{\"coord\":{\"lon\":-58.3772,\"lat\":-34.6132},\"weather\":[{\"id\":800,\"main\":\"Clear\",\"description\":\"clear sky\",\"icon\":\"01d\"}],\"base\":\"stations\",\"main\":{\"temp\":296.73,\"feels_like\":296.55,\"temp_min\":295.81,\"temp_max\":299.22,\"pressure\":1020,\"humidity\":54},\"visibility\":10000,\"wind\":{\"speed\":10.29,\"deg\":100},\"clouds\":{\"all\":0},\"dt\":1636743311,\"sys\":{\"type\":1,\"id\":8224,\"country\":\"AR\",\"sunrise\":1636706534,\"sunset\":1636756398},\"timezone\":-10800,\"id\":3435910,\"name\":\"Buenos Aires\",\"cod\":200}'"
            ]
          },
          "metadata": {},
          "execution_count": 64
        }
      ]
    },
    {
      "cell_type": "code",
      "metadata": {
        "id": "S3g4kS3bZjA_"
      },
      "source": [
        "response_dict = r.json()"
      ],
      "execution_count": null,
      "outputs": []
    },
    {
      "cell_type": "code",
      "metadata": {
        "colab": {
          "base_uri": "https://localhost:8080/"
        },
        "id": "5gXaxEPeaGuM",
        "outputId": "c16ef1a9-2cfe-40f8-d9d0-088ede96b3a8"
      },
      "source": [
        "type(response_dict)"
      ],
      "execution_count": null,
      "outputs": [
        {
          "output_type": "execute_result",
          "data": {
            "text/plain": [
              "dict"
            ]
          },
          "metadata": {},
          "execution_count": 66
        }
      ]
    },
    {
      "cell_type": "code",
      "metadata": {
        "colab": {
          "base_uri": "https://localhost:8080/"
        },
        "id": "5s4SkqorgVKu",
        "outputId": "a3b58197-c21f-4c6a-84a9-608842253001"
      },
      "source": [
        "response_dict"
      ],
      "execution_count": null,
      "outputs": [
        {
          "output_type": "execute_result",
          "data": {
            "text/plain": [
              "{'base': 'stations',\n",
              " 'clouds': {'all': 0},\n",
              " 'cod': 200,\n",
              " 'coord': {'lat': -34.6132, 'lon': -58.3772},\n",
              " 'dt': 1636743311,\n",
              " 'id': 3435910,\n",
              " 'main': {'feels_like': 296.55,\n",
              "  'humidity': 54,\n",
              "  'pressure': 1020,\n",
              "  'temp': 296.73,\n",
              "  'temp_max': 299.22,\n",
              "  'temp_min': 295.81},\n",
              " 'name': 'Buenos Aires',\n",
              " 'sys': {'country': 'AR',\n",
              "  'id': 8224,\n",
              "  'sunrise': 1636706534,\n",
              "  'sunset': 1636756398,\n",
              "  'type': 1},\n",
              " 'timezone': -10800,\n",
              " 'visibility': 10000,\n",
              " 'weather': [{'description': 'clear sky',\n",
              "   'icon': '01d',\n",
              "   'id': 800,\n",
              "   'main': 'Clear'}],\n",
              " 'wind': {'deg': 100, 'speed': 10.29}}"
            ]
          },
          "metadata": {},
          "execution_count": 67
        }
      ]
    },
    {
      "cell_type": "code",
      "metadata": {
        "colab": {
          "base_uri": "https://localhost:8080/"
        },
        "id": "y2_8kT1vg7gC",
        "outputId": "23009e99-6f3c-490c-e8a5-ab73d0513e3e"
      },
      "source": [
        "# Podemos tener campos anidados, en ese caso ingresamos con las keys dentro de cada key\n",
        "response_dict['main']"
      ],
      "execution_count": null,
      "outputs": [
        {
          "output_type": "execute_result",
          "data": {
            "text/plain": [
              "{'feels_like': 296.55,\n",
              " 'humidity': 54,\n",
              " 'pressure': 1020,\n",
              " 'temp': 296.73,\n",
              " 'temp_max': 299.22,\n",
              " 'temp_min': 295.81}"
            ]
          },
          "metadata": {},
          "execution_count": 68
        }
      ]
    },
    {
      "cell_type": "code",
      "metadata": {
        "colab": {
          "base_uri": "https://localhost:8080/"
        },
        "id": "4kyJC3yLhFhs",
        "outputId": "46d66eda-1b2b-4275-c538-1531e316e5e4"
      },
      "source": [
        "# Ver la documentacion para ver de que forma vienen los datos ( Farenheit )\n",
        "response_dict['main']['temp']"
      ],
      "execution_count": null,
      "outputs": [
        {
          "output_type": "execute_result",
          "data": {
            "text/plain": [
              "296.73"
            ]
          },
          "metadata": {},
          "execution_count": 69
        }
      ]
    },
    {
      "cell_type": "code",
      "metadata": {
        "id": "jfIdwqQBhQ6T"
      },
      "source": [
        "# Cambiamos la metrica\n",
        "buenos_aires_simela = f'https://api.openweathermap.org/data/2.5/find?q={city_name}&units=metric&appid={API_key}'"
      ],
      "execution_count": null,
      "outputs": []
    },
    {
      "cell_type": "code",
      "metadata": {
        "id": "Nc0H84tHiZz1"
      },
      "source": [
        "r2 = requests.get(buenos_aires_simela)"
      ],
      "execution_count": null,
      "outputs": []
    },
    {
      "cell_type": "code",
      "metadata": {
        "colab": {
          "base_uri": "https://localhost:8080/",
          "height": 170
        },
        "id": "VKSWQB6Rid08",
        "outputId": "c1a081f8-2f98-4268-9fc4-6bb4f8bd8a15"
      },
      "source": [
        "r2.text"
      ],
      "execution_count": null,
      "outputs": [
        {
          "output_type": "execute_result",
          "data": {
            "application/vnd.google.colaboratory.intrinsic+json": {
              "type": "string"
            },
            "text/plain": [
              "'{\"message\":\"accurate\",\"cod\":\"200\",\"count\":5,\"list\":[{\"id\":3435910,\"name\":\"Buenos Aires\",\"coord\":{\"lat\":-34.6132,\"lon\":-58.3772},\"main\":{\"temp\":23.74,\"feels_like\":23.68,\"temp_min\":21.85,\"temp_max\":27.22,\"pressure\":1019,\"humidity\":58},\"dt\":1636744144,\"wind\":{\"speed\":10.8,\"deg\":110},\"sys\":{\"country\":\"AR\"},\"rain\":null,\"snow\":null,\"clouds\":{\"all\":0},\"weather\":[{\"id\":800,\"main\":\"Clear\",\"description\":\"clear sky\",\"icon\":\"01d\"}]},{\"id\":3624593,\"name\":\"Buenos Aires\",\"coord\":{\"lat\":9.1719,\"lon\":-83.3342},\"main\":{\"temp\":29.11,\"feels_like\":31.71,\"temp_min\":29.11,\"temp_max\":29.11,\"pressure\":1011,\"humidity\":63,\"sea_level\":1011,\"grnd_level\":969},\"dt\":1636744148,\"wind\":{\"speed\":1.91,\"deg\":217},\"sys\":{\"country\":\"CR\"},\"rain\":null,\"snow\":null,\"clouds\":{\"all\":49},\"weather\":[{\"id\":802,\"main\":\"Clouds\",\"description\":\"scattered clouds\",\"icon\":\"03d\"}]},{\"id\":4016589,\"name\":\"Buenos Aires\",\"coord\":{\"lat\":19.0667,\"lon\":-102.1667},\"main\":{\"temp\":28.04,\"feels_like\":29.62,\"temp_min\":28.04,\"temp_max\":28.04,\"pressure\":1014,\"humidity\":61,\"sea_level\":1014,\"grnd_level\":957},\"dt\":1636744159,\"wind\":{\"speed\":1.29,\"deg\":213},\"sys\":{\"country\":\"MX\"},\"rain\":null,\"snow\":null,\"clouds\":{\"all\":12},\"weather\":[{\"id\":801,\"main\":\"Clouds\",\"description\":\"few clouds\",\"icon\":\"02d\"}]},{\"id\":3699223,\"name\":\"Buenos Aires\",\"coord\":{\"lat\":-5.2608,\"lon\":-79.9642},\"main\":{\"temp\":32.46,\"feels_like\":31.76,\"temp_min\":32.46,\"temp_max\":32.46,\"pressure\":1009,\"humidity\":33,\"sea_level\":1009,\"grnd_level\":993},\"dt\":1636744161,\"wind\":{\"speed\":3.32,\"deg\":236},\"sys\":{\"country\":\"PE\"},\"rain\":null,\"snow\":null,\"clouds\":{\"all\":89},\"weather\":[{\"id\":804,\"main\":\"Clouds\",\"description\":\"overcast clouds\",\"icon\":\"04d\"}]},{\"id\":3688357,\"name\":\"Buenos Aires\",\"coord\":{\"lat\":3.015,\"lon\":-76.6428},\"main\":{\"temp\":27.03,\"feels_like\":29.9,\"temp_min\":27.03,\"temp_max\":27.51,\"pressure\":1010,\"humidity\":81,\"sea_level\":1010,\"grnd_level\":882},\"dt\":1636744148,\"wind\":{\"speed\":1.29,\"deg\":288},\"sys\":{\"country\":\"CO\"},\"rain\":null,\"snow\":null,\"clouds\":{\"all\":94},\"weather\":[{\"id\":804,\"main\":\"Clouds\",\"description\":\"overcast clouds\",\"icon\":\"04d\"}]}]}'"
            ]
          },
          "metadata": {},
          "execution_count": 93
        }
      ]
    },
    {
      "cell_type": "code",
      "metadata": {
        "colab": {
          "base_uri": "https://localhost:8080/"
        },
        "id": "ywogZ5JWigX8",
        "outputId": "ce5557bb-ce4c-49f0-809a-3f9629e36bae"
      },
      "source": [
        "r2.json()"
      ],
      "execution_count": null,
      "outputs": [
        {
          "output_type": "execute_result",
          "data": {
            "text/plain": [
              "{'cod': '200',\n",
              " 'count': 5,\n",
              " 'list': [{'clouds': {'all': 0},\n",
              "   'coord': {'lat': -34.6132, 'lon': -58.3772},\n",
              "   'dt': 1636744144,\n",
              "   'id': 3435910,\n",
              "   'main': {'feels_like': 23.68,\n",
              "    'humidity': 58,\n",
              "    'pressure': 1019,\n",
              "    'temp': 23.74,\n",
              "    'temp_max': 27.22,\n",
              "    'temp_min': 21.85},\n",
              "   'name': 'Buenos Aires',\n",
              "   'rain': None,\n",
              "   'snow': None,\n",
              "   'sys': {'country': 'AR'},\n",
              "   'weather': [{'description': 'clear sky',\n",
              "     'icon': '01d',\n",
              "     'id': 800,\n",
              "     'main': 'Clear'}],\n",
              "   'wind': {'deg': 110, 'speed': 10.8}},\n",
              "  {'clouds': {'all': 49},\n",
              "   'coord': {'lat': 9.1719, 'lon': -83.3342},\n",
              "   'dt': 1636744148,\n",
              "   'id': 3624593,\n",
              "   'main': {'feels_like': 31.71,\n",
              "    'grnd_level': 969,\n",
              "    'humidity': 63,\n",
              "    'pressure': 1011,\n",
              "    'sea_level': 1011,\n",
              "    'temp': 29.11,\n",
              "    'temp_max': 29.11,\n",
              "    'temp_min': 29.11},\n",
              "   'name': 'Buenos Aires',\n",
              "   'rain': None,\n",
              "   'snow': None,\n",
              "   'sys': {'country': 'CR'},\n",
              "   'weather': [{'description': 'scattered clouds',\n",
              "     'icon': '03d',\n",
              "     'id': 802,\n",
              "     'main': 'Clouds'}],\n",
              "   'wind': {'deg': 217, 'speed': 1.91}},\n",
              "  {'clouds': {'all': 12},\n",
              "   'coord': {'lat': 19.0667, 'lon': -102.1667},\n",
              "   'dt': 1636744159,\n",
              "   'id': 4016589,\n",
              "   'main': {'feels_like': 29.62,\n",
              "    'grnd_level': 957,\n",
              "    'humidity': 61,\n",
              "    'pressure': 1014,\n",
              "    'sea_level': 1014,\n",
              "    'temp': 28.04,\n",
              "    'temp_max': 28.04,\n",
              "    'temp_min': 28.04},\n",
              "   'name': 'Buenos Aires',\n",
              "   'rain': None,\n",
              "   'snow': None,\n",
              "   'sys': {'country': 'MX'},\n",
              "   'weather': [{'description': 'few clouds',\n",
              "     'icon': '02d',\n",
              "     'id': 801,\n",
              "     'main': 'Clouds'}],\n",
              "   'wind': {'deg': 213, 'speed': 1.29}},\n",
              "  {'clouds': {'all': 89},\n",
              "   'coord': {'lat': -5.2608, 'lon': -79.9642},\n",
              "   'dt': 1636744161,\n",
              "   'id': 3699223,\n",
              "   'main': {'feels_like': 31.76,\n",
              "    'grnd_level': 993,\n",
              "    'humidity': 33,\n",
              "    'pressure': 1009,\n",
              "    'sea_level': 1009,\n",
              "    'temp': 32.46,\n",
              "    'temp_max': 32.46,\n",
              "    'temp_min': 32.46},\n",
              "   'name': 'Buenos Aires',\n",
              "   'rain': None,\n",
              "   'snow': None,\n",
              "   'sys': {'country': 'PE'},\n",
              "   'weather': [{'description': 'overcast clouds',\n",
              "     'icon': '04d',\n",
              "     'id': 804,\n",
              "     'main': 'Clouds'}],\n",
              "   'wind': {'deg': 236, 'speed': 3.32}},\n",
              "  {'clouds': {'all': 94},\n",
              "   'coord': {'lat': 3.015, 'lon': -76.6428},\n",
              "   'dt': 1636744148,\n",
              "   'id': 3688357,\n",
              "   'main': {'feels_like': 29.9,\n",
              "    'grnd_level': 882,\n",
              "    'humidity': 81,\n",
              "    'pressure': 1010,\n",
              "    'sea_level': 1010,\n",
              "    'temp': 27.03,\n",
              "    'temp_max': 27.51,\n",
              "    'temp_min': 27.03},\n",
              "   'name': 'Buenos Aires',\n",
              "   'rain': None,\n",
              "   'snow': None,\n",
              "   'sys': {'country': 'CO'},\n",
              "   'weather': [{'description': 'overcast clouds',\n",
              "     'icon': '04d',\n",
              "     'id': 804,\n",
              "     'main': 'Clouds'}],\n",
              "   'wind': {'deg': 288, 'speed': 1.29}}],\n",
              " 'message': 'accurate'}"
            ]
          },
          "metadata": {},
          "execution_count": 94
        }
      ]
    },
    {
      "cell_type": "code",
      "metadata": {
        "id": "HKkRylgVk2OJ"
      },
      "source": [
        ""
      ],
      "execution_count": null,
      "outputs": []
    },
    {
      "cell_type": "markdown",
      "metadata": {
        "id": "k4NoEQJZmCq1"
      },
      "source": [
        "# Google Trends API"
      ]
    },
    {
      "cell_type": "code",
      "metadata": {
        "id": "Yl-vLJfHmFWm"
      },
      "source": [
        "!pip install pytrends"
      ],
      "execution_count": null,
      "outputs": []
    },
    {
      "cell_type": "code",
      "metadata": {
        "id": "OOkCnd4BmGAY"
      },
      "source": [
        "import pandas as pd                        \n",
        "from pytrends.request import TrendReq\n",
        "pytrend = TrendReq()\n",
        "import matplotlib as mtp\n",
        "from matplotlib import pyplot as plt"
      ],
      "execution_count": null,
      "outputs": []
    },
    {
      "cell_type": "code",
      "metadata": {
        "colab": {
          "base_uri": "https://localhost:8080/",
          "height": 1000
        },
        "id": "o3KvzXQpmO0O",
        "outputId": "29040fe2-3290-4bb9-b824-e2820306aee8"
      },
      "source": [
        "pytrend.build_payload(kw_list=['Python'])\n",
        "# Interest by Region\n",
        "df = pytrend.interest_by_region()\n",
        "df.head(50).sort_values(by='Python', ascending=False)"
      ],
      "execution_count": null,
      "outputs": [
        {
          "output_type": "execute_result",
          "data": {
            "text/html": [
              "<div>\n",
              "<style scoped>\n",
              "    .dataframe tbody tr th:only-of-type {\n",
              "        vertical-align: middle;\n",
              "    }\n",
              "\n",
              "    .dataframe tbody tr th {\n",
              "        vertical-align: top;\n",
              "    }\n",
              "\n",
              "    .dataframe thead th {\n",
              "        text-align: right;\n",
              "    }\n",
              "</style>\n",
              "<table border=\"1\" class=\"dataframe\">\n",
              "  <thead>\n",
              "    <tr style=\"text-align: right;\">\n",
              "      <th></th>\n",
              "      <th>Python</th>\n",
              "    </tr>\n",
              "    <tr>\n",
              "      <th>geoName</th>\n",
              "      <th></th>\n",
              "    </tr>\n",
              "  </thead>\n",
              "  <tbody>\n",
              "    <tr>\n",
              "      <th>China</th>\n",
              "      <td>100</td>\n",
              "    </tr>\n",
              "    <tr>\n",
              "      <th>Australia</th>\n",
              "      <td>4</td>\n",
              "    </tr>\n",
              "    <tr>\n",
              "      <th>Canada</th>\n",
              "      <td>4</td>\n",
              "    </tr>\n",
              "    <tr>\n",
              "      <th>Bangladesh</th>\n",
              "      <td>3</td>\n",
              "    </tr>\n",
              "    <tr>\n",
              "      <th>Belarus</th>\n",
              "      <td>3</td>\n",
              "    </tr>\n",
              "    <tr>\n",
              "      <th>Belgium</th>\n",
              "      <td>3</td>\n",
              "    </tr>\n",
              "    <tr>\n",
              "      <th>Austria</th>\n",
              "      <td>3</td>\n",
              "    </tr>\n",
              "    <tr>\n",
              "      <th>Colombia</th>\n",
              "      <td>2</td>\n",
              "    </tr>\n",
              "    <tr>\n",
              "      <th>Chile</th>\n",
              "      <td>2</td>\n",
              "    </tr>\n",
              "    <tr>\n",
              "      <th>Bulgaria</th>\n",
              "      <td>2</td>\n",
              "    </tr>\n",
              "    <tr>\n",
              "      <th>Brazil</th>\n",
              "      <td>1</td>\n",
              "    </tr>\n",
              "    <tr>\n",
              "      <th>Argentina</th>\n",
              "      <td>1</td>\n",
              "    </tr>\n",
              "    <tr>\n",
              "      <th>Burundi</th>\n",
              "      <td>0</td>\n",
              "    </tr>\n",
              "    <tr>\n",
              "      <th>Burkina Faso</th>\n",
              "      <td>0</td>\n",
              "    </tr>\n",
              "    <tr>\n",
              "      <th>Cambodia</th>\n",
              "      <td>0</td>\n",
              "    </tr>\n",
              "    <tr>\n",
              "      <th>Brunei</th>\n",
              "      <td>0</td>\n",
              "    </tr>\n",
              "    <tr>\n",
              "      <th>British Virgin Islands</th>\n",
              "      <td>0</td>\n",
              "    </tr>\n",
              "    <tr>\n",
              "      <th>British Indian Ocean Territory</th>\n",
              "      <td>0</td>\n",
              "    </tr>\n",
              "    <tr>\n",
              "      <th>Afghanistan</th>\n",
              "      <td>0</td>\n",
              "    </tr>\n",
              "    <tr>\n",
              "      <th>Cameroon</th>\n",
              "      <td>0</td>\n",
              "    </tr>\n",
              "    <tr>\n",
              "      <th>Bouvet Island</th>\n",
              "      <td>0</td>\n",
              "    </tr>\n",
              "    <tr>\n",
              "      <th>Caribbean Netherlands</th>\n",
              "      <td>0</td>\n",
              "    </tr>\n",
              "    <tr>\n",
              "      <th>Cayman Islands</th>\n",
              "      <td>0</td>\n",
              "    </tr>\n",
              "    <tr>\n",
              "      <th>Central African Republic</th>\n",
              "      <td>0</td>\n",
              "    </tr>\n",
              "    <tr>\n",
              "      <th>Chad</th>\n",
              "      <td>0</td>\n",
              "    </tr>\n",
              "    <tr>\n",
              "      <th>Christmas Island</th>\n",
              "      <td>0</td>\n",
              "    </tr>\n",
              "    <tr>\n",
              "      <th>Cocos (Keeling) Islands</th>\n",
              "      <td>0</td>\n",
              "    </tr>\n",
              "    <tr>\n",
              "      <th>Cape Verde</th>\n",
              "      <td>0</td>\n",
              "    </tr>\n",
              "    <tr>\n",
              "      <th>Bolivia</th>\n",
              "      <td>0</td>\n",
              "    </tr>\n",
              "    <tr>\n",
              "      <th>Botswana</th>\n",
              "      <td>0</td>\n",
              "    </tr>\n",
              "    <tr>\n",
              "      <th>Aruba</th>\n",
              "      <td>0</td>\n",
              "    </tr>\n",
              "    <tr>\n",
              "      <th>Algeria</th>\n",
              "      <td>0</td>\n",
              "    </tr>\n",
              "    <tr>\n",
              "      <th>American Samoa</th>\n",
              "      <td>0</td>\n",
              "    </tr>\n",
              "    <tr>\n",
              "      <th>Andorra</th>\n",
              "      <td>0</td>\n",
              "    </tr>\n",
              "    <tr>\n",
              "      <th>Angola</th>\n",
              "      <td>0</td>\n",
              "    </tr>\n",
              "    <tr>\n",
              "      <th>Anguilla</th>\n",
              "      <td>0</td>\n",
              "    </tr>\n",
              "    <tr>\n",
              "      <th>Antarctica</th>\n",
              "      <td>0</td>\n",
              "    </tr>\n",
              "    <tr>\n",
              "      <th>Antigua &amp; Barbuda</th>\n",
              "      <td>0</td>\n",
              "    </tr>\n",
              "    <tr>\n",
              "      <th>Armenia</th>\n",
              "      <td>0</td>\n",
              "    </tr>\n",
              "    <tr>\n",
              "      <th>Azerbaijan</th>\n",
              "      <td>0</td>\n",
              "    </tr>\n",
              "    <tr>\n",
              "      <th>Bosnia &amp; Herzegovina</th>\n",
              "      <td>0</td>\n",
              "    </tr>\n",
              "    <tr>\n",
              "      <th>Bahamas</th>\n",
              "      <td>0</td>\n",
              "    </tr>\n",
              "    <tr>\n",
              "      <th>Bahrain</th>\n",
              "      <td>0</td>\n",
              "    </tr>\n",
              "    <tr>\n",
              "      <th>Barbados</th>\n",
              "      <td>0</td>\n",
              "    </tr>\n",
              "    <tr>\n",
              "      <th>Belize</th>\n",
              "      <td>0</td>\n",
              "    </tr>\n",
              "    <tr>\n",
              "      <th>Benin</th>\n",
              "      <td>0</td>\n",
              "    </tr>\n",
              "    <tr>\n",
              "      <th>Bermuda</th>\n",
              "      <td>0</td>\n",
              "    </tr>\n",
              "    <tr>\n",
              "      <th>Bhutan</th>\n",
              "      <td>0</td>\n",
              "    </tr>\n",
              "    <tr>\n",
              "      <th>Albania</th>\n",
              "      <td>0</td>\n",
              "    </tr>\n",
              "    <tr>\n",
              "      <th>Comoros</th>\n",
              "      <td>0</td>\n",
              "    </tr>\n",
              "  </tbody>\n",
              "</table>\n",
              "</div>"
            ],
            "text/plain": [
              "                                Python\n",
              "geoName                               \n",
              "China                              100\n",
              "Australia                            4\n",
              "Canada                               4\n",
              "Bangladesh                           3\n",
              "Belarus                              3\n",
              "Belgium                              3\n",
              "Austria                              3\n",
              "Colombia                             2\n",
              "Chile                                2\n",
              "Bulgaria                             2\n",
              "Brazil                               1\n",
              "Argentina                            1\n",
              "Burundi                              0\n",
              "Burkina Faso                         0\n",
              "Cambodia                             0\n",
              "Brunei                               0\n",
              "British Virgin Islands               0\n",
              "British Indian Ocean Territory       0\n",
              "Afghanistan                          0\n",
              "Cameroon                             0\n",
              "Bouvet Island                        0\n",
              "Caribbean Netherlands                0\n",
              "Cayman Islands                       0\n",
              "Central African Republic             0\n",
              "Chad                                 0\n",
              "Christmas Island                     0\n",
              "Cocos (Keeling) Islands              0\n",
              "Cape Verde                           0\n",
              "Bolivia                              0\n",
              "Botswana                             0\n",
              "Aruba                                0\n",
              "Algeria                              0\n",
              "American Samoa                       0\n",
              "Andorra                              0\n",
              "Angola                               0\n",
              "Anguilla                             0\n",
              "Antarctica                           0\n",
              "Antigua & Barbuda                    0\n",
              "Armenia                              0\n",
              "Azerbaijan                           0\n",
              "Bosnia & Herzegovina                 0\n",
              "Bahamas                              0\n",
              "Bahrain                              0\n",
              "Barbados                             0\n",
              "Belize                               0\n",
              "Benin                                0\n",
              "Bermuda                              0\n",
              "Bhutan                               0\n",
              "Albania                              0\n",
              "Comoros                              0"
            ]
          },
          "metadata": {},
          "execution_count": 100
        }
      ]
    },
    {
      "cell_type": "markdown",
      "metadata": {
        "id": "63MqmeJ5m343"
      },
      "source": [
        "**Now you might be thinking what are the values, what do they denote?** \n",
        "\n",
        "The values are calculated on a scale from 0 to 100, where 100 is the location with the most popularity as a fraction of total searches in that location, a value of 50 indicates a location which is half as popular. A value of 0 indicates a location where there was not enough data for this term. Source → [Google Trends](https://support.google.com/trends/answer/4355212).."
      ]
    },
    {
      "cell_type": "code",
      "metadata": {
        "id": "oWwOCdgbnYLe"
      },
      "source": [
        "df.reset_index(inplace=True)\n",
        "df.sort_values(by='Python', inplace=True)"
      ],
      "execution_count": null,
      "outputs": []
    },
    {
      "cell_type": "code",
      "metadata": {
        "colab": {
          "base_uri": "https://localhost:8080/"
        },
        "id": "u76Na5vyopNx",
        "outputId": "05821bd0-5e2a-408e-de72-023991a3d8f2"
      },
      "source": [
        "df.shape"
      ],
      "execution_count": null,
      "outputs": [
        {
          "output_type": "execute_result",
          "data": {
            "text/plain": [
              "(250, 2)"
            ]
          },
          "metadata": {},
          "execution_count": 119
        }
      ]
    },
    {
      "cell_type": "code",
      "metadata": {
        "colab": {
          "base_uri": "https://localhost:8080/",
          "height": 500
        },
        "id": "IZXy02GSm2zP",
        "outputId": "f86617e6-f9fd-4316-dae1-d1050405c6ff"
      },
      "source": [
        "df[230:].plot(x='geoName', y='Python', figsize=(6, 8), kind ='barh')"
      ],
      "execution_count": null,
      "outputs": [
        {
          "output_type": "execute_result",
          "data": {
            "text/plain": [
              "<matplotlib.axes._subplots.AxesSubplot at 0x7f1d422d2c90>"
            ]
          },
          "metadata": {},
          "execution_count": 122
        },
        {
          "output_type": "display_data",
          "data": {
            "image/png": "[encoded data removed]",
            "text/plain": [
              "<Figure size 432x576 with 1 Axes>"
            ]
          },
          "metadata": {
            "needs_background": "light"
          }
        }
      ]
    },
    {
      "cell_type": "code",
      "metadata": {
        "id": "JpdqZ8MNnBgk"
      },
      "source": [
        "# Segundo ejemplo\n",
        "\n",
        "# data\n",
        "# https://hackernoon.com/how-to-use-google-trends-api-with-python\n",
        "\n",
        "# DOCS https://github.com/GeneralMills/pytrends?ref=hackernoon.com#api-methods"
      ],
      "execution_count": null,
      "outputs": []
    },
    {
      "cell_type": "code",
      "metadata": {
        "id": "qIgcltrZu1Vh"
      },
      "source": [
        "from pytrends.request import TrendReq\n",
        "\n",
        "pytrends = TrendReq(hl='en-US', tz=360) "
      ],
      "execution_count": null,
      "outputs": []
    },
    {
      "cell_type": "code",
      "metadata": {
        "id": "TZDScpZ_u5CC"
      },
      "source": [
        "\n",
        "kw_list = [\"machine learning\"] # list of keywords to get data \n",
        "\n",
        "pytrends.build_payload(kw_list, cat=0, timeframe='today 12-m') "
      ],
      "execution_count": null,
      "outputs": []
    },
    {
      "cell_type": "code",
      "metadata": {
        "colab": {
          "base_uri": "https://localhost:8080/",
          "height": 203
        },
        "id": "JubeuiXYvJaR",
        "outputId": "cc62f3dd-98ab-460b-f32a-7481872fbbd7"
      },
      "source": [
        "data.head()"
      ],
      "execution_count": null,
      "outputs": [
        {
          "output_type": "execute_result",
          "data": {
            "text/html": [
              "<div>\n",
              "<style scoped>\n",
              "    .dataframe tbody tr th:only-of-type {\n",
              "        vertical-align: middle;\n",
              "    }\n",
              "\n",
              "    .dataframe tbody tr th {\n",
              "        vertical-align: top;\n",
              "    }\n",
              "\n",
              "    .dataframe thead th {\n",
              "        text-align: right;\n",
              "    }\n",
              "</style>\n",
              "<table border=\"1\" class=\"dataframe\">\n",
              "  <thead>\n",
              "    <tr style=\"text-align: right;\">\n",
              "      <th></th>\n",
              "      <th>date</th>\n",
              "      <th>machine learning</th>\n",
              "      <th>isPartial</th>\n",
              "    </tr>\n",
              "  </thead>\n",
              "  <tbody>\n",
              "    <tr>\n",
              "      <th>0</th>\n",
              "      <td>2020-11-15</td>\n",
              "      <td>88</td>\n",
              "      <td>False</td>\n",
              "    </tr>\n",
              "    <tr>\n",
              "      <th>1</th>\n",
              "      <td>2020-11-22</td>\n",
              "      <td>81</td>\n",
              "      <td>False</td>\n",
              "    </tr>\n",
              "    <tr>\n",
              "      <th>2</th>\n",
              "      <td>2020-11-29</td>\n",
              "      <td>83</td>\n",
              "      <td>False</td>\n",
              "    </tr>\n",
              "    <tr>\n",
              "      <th>3</th>\n",
              "      <td>2020-12-06</td>\n",
              "      <td>83</td>\n",
              "      <td>False</td>\n",
              "    </tr>\n",
              "    <tr>\n",
              "      <th>4</th>\n",
              "      <td>2020-12-13</td>\n",
              "      <td>83</td>\n",
              "      <td>False</td>\n",
              "    </tr>\n",
              "  </tbody>\n",
              "</table>\n",
              "</div>"
            ],
            "text/plain": [
              "        date  machine learning isPartial\n",
              "0 2020-11-15                88     False\n",
              "1 2020-11-22                81     False\n",
              "2 2020-11-29                83     False\n",
              "3 2020-12-06                83     False\n",
              "4 2020-12-13                83     False"
            ]
          },
          "metadata": {},
          "execution_count": 131
        }
      ]
    },
    {
      "cell_type": "code",
      "metadata": {
        "colab": {
          "base_uri": "https://localhost:8080/",
          "height": 542
        },
        "id": "MtvoJOnEu7C6",
        "outputId": "6707c9f8-40f2-40cb-b093-2187a4d65755"
      },
      "source": [
        "#1 Interest over Time\n",
        "data = pytrends.interest_over_time() \n",
        "data = data.reset_index() \n",
        "\n",
        "\n",
        "import plotly.express as px\n",
        "\n",
        "fig = px.line(data, x=\"date\", y='machine learning', title='Keyword Web Search Interest Over Time')\n",
        "fig.show() "
      ],
      "execution_count": null,
      "outputs": [
        {
          "output_type": "display_data",
          "data": {
            "text/html": [
              "<html>\n",
              "<head><meta charset=\"utf-8\" /></head>\n",
              "<body>\n",
              "    <div>\n",
              "            <script src=\"https://cdnjs.cloudflare.com/ajax/libs/mathjax/2.7.5/MathJax.js?config=TeX-AMS-MML_SVG\"></script><script type=\"text/javascript\">if (window.MathJax) {MathJax.Hub.Config({SVG: {font: \"STIX-Web\"}});}</script>\n",
              "                <script type=\"text/javascript\">window.PlotlyConfig = {MathJaxConfig: 'local'};</script>\n",
              "        <script src=\"https://cdn.plot.ly/plotly-latest.min.js\"></script>    \n",
              "            <div id=\"925422f1-7361-454c-9e4f-8499f7108770\" class=\"plotly-graph-div\" style=\"height:525px; width:100%;\"></div>\n",
              "            <script type=\"text/javascript\">\n",
              "                \n",
              "                    window.PLOTLYENV=window.PLOTLYENV || {};\n",
              "                    \n",
              "                if (document.getElementById(\"925422f1-7361-454c-9e4f-8499f7108770\")) {\n",
              "                    Plotly.newPlot(\n",
              "                        '925422f1-7361-454c-9e4f-8499f7108770',\n",
              "                        [{\"hoverlabel\": {\"namelength\": 0}, \"hovertemplate\": \"date=%{x}<br>machine learning=%{y}\", \"legendgroup\": \"\", \"line\": {\"color\": \"#636efa\", \"dash\": \"solid\"}, \"mode\": \"lines\", \"name\": \"\", \"showlegend\": false, \"type\": \"scatter\", \"x\": [\"2020-11-15T00:00:00\", \"2020-11-22T00:00:00\", \"2020-11-29T00:00:00\", \"2020-12-06T00:00:00\", \"2020-12-13T00:00:00\", \"2020-12-20T00:00:00\", \"2020-12-27T00:00:00\", \"2021-01-03T00:00:00\", \"2021-01-10T00:00:00\", \"2021-01-17T00:00:00\", \"2021-01-24T00:00:00\", \"2021-01-31T00:00:00\", \"2021-02-07T00:00:00\", \"2021-02-14T00:00:00\", \"2021-02-21T00:00:00\", \"2021-02-28T00:00:00\", \"2021-03-07T00:00:00\", \"2021-03-14T00:00:00\", \"2021-03-21T00:00:00\", \"2021-03-28T00:00:00\", \"2021-04-04T00:00:00\", \"2021-04-11T00:00:00\", \"2021-04-18T00:00:00\", \"2021-04-25T00:00:00\", \"2021-05-02T00:00:00\", \"2021-05-09T00:00:00\", \"2021-05-16T00:00:00\", \"2021-05-23T00:00:00\", \"2021-05-30T00:00:00\", \"2021-06-06T00:00:00\", \"2021-06-13T00:00:00\", \"2021-06-20T00:00:00\", \"2021-06-27T00:00:00\", \"2021-07-04T00:00:00\", \"2021-07-11T00:00:00\", \"2021-07-18T00:00:00\", \"2021-07-25T00:00:00\", \"2021-08-01T00:00:00\", \"2021-08-08T00:00:00\", \"2021-08-15T00:00:00\", \"2021-08-22T00:00:00\", \"2021-08-29T00:00:00\", \"2021-09-05T00:00:00\", \"2021-09-12T00:00:00\", \"2021-09-19T00:00:00\", \"2021-09-26T00:00:00\", \"2021-10-03T00:00:00\", \"2021-10-10T00:00:00\", \"2021-10-17T00:00:00\", \"2021-10-24T00:00:00\", \"2021-10-31T00:00:00\", \"2021-11-07T00:00:00\"], \"xaxis\": \"x\", \"y\": [88, 81, 83, 83, 83, 70, 65, 80, 83, 82, 82, 87, 83, 84, 90, 89, 86, 85, 90, 82, 86, 87, 96, 86, 87, 88, 83, 93, 89, 93, 94, 87, 83, 83, 89, 87, 82, 81, 79, 82, 83, 84, 80, 89, 86, 94, 87, 85, 90, 93, 88, 100], \"yaxis\": \"y\"}],\n",
              "                        {\"legend\": {\"tracegroupgap\": 0}, \"template\": {\"data\": {\"bar\": [{\"error_x\": {\"color\": \"#2a3f5f\"}, \"error_y\": {\"color\": \"#2a3f5f\"}, \"marker\": {\"line\": {\"color\": \"#E5ECF6\", \"width\": 0.5}}, \"type\": \"bar\"}], \"barpolar\": [{\"marker\": {\"line\": {\"color\": \"#E5ECF6\", \"width\": 0.5}}, \"type\": \"barpolar\"}], \"carpet\": [{\"aaxis\": {\"endlinecolor\": \"#2a3f5f\", \"gridcolor\": \"white\", \"linecolor\": \"white\", \"minorgridcolor\": \"white\", \"startlinecolor\": \"#2a3f5f\"}, \"baxis\": {\"endlinecolor\": \"#2a3f5f\", \"gridcolor\": \"white\", \"linecolor\": \"white\", \"minorgridcolor\": \"white\", \"startlinecolor\": \"#2a3f5f\"}, \"type\": \"carpet\"}], \"choropleth\": [{\"colorbar\": {\"outlinewidth\": 0, \"ticks\": \"\"}, \"type\": \"choropleth\"}], \"contour\": [{\"colorbar\": {\"outlinewidth\": 0, \"ticks\": \"\"}, \"colorscale\": [[0.0, \"#0d0887\"], [0.1111111111111111, \"#46039f\"], [0.2222222222222222, \"#7201a8\"], [0.3333333333333333, \"#9c179e\"], [0.4444444444444444, \"#bd3786\"], [0.5555555555555556, \"#d8576b\"], [0.6666666666666666, \"#ed7953\"], [0.7777777777777778, \"#fb9f3a\"], [0.8888888888888888, \"#fdca26\"], [1.0, \"#f0f921\"]], \"type\": \"contour\"}], \"contourcarpet\": [{\"colorbar\": {\"outlinewidth\": 0, \"ticks\": \"\"}, \"type\": \"contourcarpet\"}], \"heatmap\": [{\"colorbar\": {\"outlinewidth\": 0, \"ticks\": \"\"}, \"colorscale\": [[0.0, \"#0d0887\"], [0.1111111111111111, \"#46039f\"], [0.2222222222222222, \"#7201a8\"], [0.3333333333333333, \"#9c179e\"], [0.4444444444444444, \"#bd3786\"], [0.5555555555555556, \"#d8576b\"], [0.6666666666666666, \"#ed7953\"], [0.7777777777777778, \"#fb9f3a\"], [0.8888888888888888, \"#fdca26\"], [1.0, \"#f0f921\"]], \"type\": \"heatmap\"}], \"heatmapgl\": [{\"colorbar\": {\"outlinewidth\": 0, \"ticks\": \"\"}, \"colorscale\": [[0.0, \"#0d0887\"], [0.1111111111111111, \"#46039f\"], [0.2222222222222222, \"#7201a8\"], [0.3333333333333333, \"#9c179e\"], [0.4444444444444444, \"#bd3786\"], [0.5555555555555556, \"#d8576b\"], [0.6666666666666666, \"#ed7953\"], [0.7777777777777778, \"#fb9f3a\"], [0.8888888888888888, \"#fdca26\"], [1.0, \"#f0f921\"]], \"type\": \"heatmapgl\"}], \"histogram\": [{\"marker\": {\"colorbar\": {\"outlinewidth\": 0, \"ticks\": \"\"}}, \"type\": \"histogram\"}], \"histogram2d\": [{\"colorbar\": {\"outlinewidth\": 0, \"ticks\": \"\"}, \"colorscale\": [[0.0, \"#0d0887\"], [0.1111111111111111, \"#46039f\"], [0.2222222222222222, \"#7201a8\"], [0.3333333333333333, \"#9c179e\"], [0.4444444444444444, \"#bd3786\"], [0.5555555555555556, \"#d8576b\"], [0.6666666666666666, \"#ed7953\"], [0.7777777777777778, \"#fb9f3a\"], [0.8888888888888888, \"#fdca26\"], [1.0, \"#f0f921\"]], \"type\": \"histogram2d\"}], \"histogram2dcontour\": [{\"colorbar\": {\"outlinewidth\": 0, \"ticks\": \"\"}, \"colorscale\": [[0.0, \"#0d0887\"], [0.1111111111111111, \"#46039f\"], [0.2222222222222222, \"#7201a8\"], [0.3333333333333333, \"#9c179e\"], [0.4444444444444444, \"#bd3786\"], [0.5555555555555556, \"#d8576b\"], [0.6666666666666666, \"#ed7953\"], [0.7777777777777778, \"#fb9f3a\"], [0.8888888888888888, \"#fdca26\"], [1.0, \"#f0f921\"]], \"type\": \"histogram2dcontour\"}], \"mesh3d\": [{\"colorbar\": {\"outlinewidth\": 0, \"ticks\": \"\"}, \"type\": \"mesh3d\"}], \"parcoords\": [{\"line\": {\"colorbar\": {\"outlinewidth\": 0, \"ticks\": \"\"}}, \"type\": \"parcoords\"}], \"pie\": [{\"automargin\": true, \"type\": \"pie\"}], \"scatter\": [{\"marker\": {\"colorbar\": {\"outlinewidth\": 0, \"ticks\": \"\"}}, \"type\": \"scatter\"}], \"scatter3d\": [{\"line\": {\"colorbar\": {\"outlinewidth\": 0, \"ticks\": \"\"}}, \"marker\": {\"colorbar\": {\"outlinewidth\": 0, \"ticks\": \"\"}}, \"type\": \"scatter3d\"}], \"scattercarpet\": [{\"marker\": {\"colorbar\": {\"outlinewidth\": 0, \"ticks\": \"\"}}, \"type\": \"scattercarpet\"}], \"scattergeo\": [{\"marker\": {\"colorbar\": {\"outlinewidth\": 0, \"ticks\": \"\"}}, \"type\": \"scattergeo\"}], \"scattergl\": [{\"marker\": {\"colorbar\": {\"outlinewidth\": 0, \"ticks\": \"\"}}, \"type\": \"scattergl\"}], \"scattermapbox\": [{\"marker\": {\"colorbar\": {\"outlinewidth\": 0, \"ticks\": \"\"}}, \"type\": \"scattermapbox\"}], \"scatterpolar\": [{\"marker\": {\"colorbar\": {\"outlinewidth\": 0, \"ticks\": \"\"}}, \"type\": \"scatterpolar\"}], \"scatterpolargl\": [{\"marker\": {\"colorbar\": {\"outlinewidth\": 0, \"ticks\": \"\"}}, \"type\": \"scatterpolargl\"}], \"scatterternary\": [{\"marker\": {\"colorbar\": {\"outlinewidth\": 0, \"ticks\": \"\"}}, \"type\": \"scatterternary\"}], \"surface\": [{\"colorbar\": {\"outlinewidth\": 0, \"ticks\": \"\"}, \"colorscale\": [[0.0, \"#0d0887\"], [0.1111111111111111, \"#46039f\"], [0.2222222222222222, \"#7201a8\"], [0.3333333333333333, \"#9c179e\"], [0.4444444444444444, \"#bd3786\"], [0.5555555555555556, \"#d8576b\"], [0.6666666666666666, \"#ed7953\"], [0.7777777777777778, \"#fb9f3a\"], [0.8888888888888888, \"#fdca26\"], [1.0, \"#f0f921\"]], \"type\": \"surface\"}], \"table\": [{\"cells\": {\"fill\": {\"color\": \"#EBF0F8\"}, \"line\": {\"color\": \"white\"}}, \"header\": {\"fill\": {\"color\": \"#C8D4E3\"}, \"line\": {\"color\": \"white\"}}, \"type\": \"table\"}]}, \"layout\": {\"annotationdefaults\": {\"arrowcolor\": \"#2a3f5f\", \"arrowhead\": 0, \"arrowwidth\": 1}, \"coloraxis\": {\"colorbar\": {\"outlinewidth\": 0, \"ticks\": \"\"}}, \"colorscale\": {\"diverging\": [[0, \"#8e0152\"], [0.1, \"#c51b7d\"], [0.2, \"#de77ae\"], [0.3, \"#f1b6da\"], [0.4, \"#fde0ef\"], [0.5, \"#f7f7f7\"], [0.6, \"#e6f5d0\"], [0.7, \"#b8e186\"], [0.8, \"#7fbc41\"], [0.9, \"#4d9221\"], [1, \"#276419\"]], \"sequential\": [[0.0, \"#0d0887\"], [0.1111111111111111, \"#46039f\"], [0.2222222222222222, \"#7201a8\"], [0.3333333333333333, \"#9c179e\"], [0.4444444444444444, \"#bd3786\"], [0.5555555555555556, \"#d8576b\"], [0.6666666666666666, \"#ed7953\"], [0.7777777777777778, \"#fb9f3a\"], [0.8888888888888888, \"#fdca26\"], [1.0, \"#f0f921\"]], \"sequentialminus\": [[0.0, \"#0d0887\"], [0.1111111111111111, \"#46039f\"], [0.2222222222222222, \"#7201a8\"], [0.3333333333333333, \"#9c179e\"], [0.4444444444444444, \"#bd3786\"], [0.5555555555555556, \"#d8576b\"], [0.6666666666666666, \"#ed7953\"], [0.7777777777777778, \"#fb9f3a\"], [0.8888888888888888, \"#fdca26\"], [1.0, \"#f0f921\"]]}, \"colorway\": [\"#636efa\", \"#EF553B\", \"#00cc96\", \"#ab63fa\", \"#FFA15A\", \"#19d3f3\", \"#FF6692\", \"#B6E880\", \"#FF97FF\", \"#FECB52\"], \"font\": {\"color\": \"#2a3f5f\"}, \"geo\": {\"bgcolor\": \"white\", \"lakecolor\": \"white\", \"landcolor\": \"#E5ECF6\", \"showlakes\": true, \"showland\": true, \"subunitcolor\": \"white\"}, \"hoverlabel\": {\"align\": \"left\"}, \"hovermode\": \"closest\", \"mapbox\": {\"style\": \"light\"}, \"paper_bgcolor\": \"white\", \"plot_bgcolor\": \"#E5ECF6\", \"polar\": {\"angularaxis\": {\"gridcolor\": \"white\", \"linecolor\": \"white\", \"ticks\": \"\"}, \"bgcolor\": \"#E5ECF6\", \"radialaxis\": {\"gridcolor\": \"white\", \"linecolor\": \"white\", \"ticks\": \"\"}}, \"scene\": {\"xaxis\": {\"backgroundcolor\": \"#E5ECF6\", \"gridcolor\": \"white\", \"gridwidth\": 2, \"linecolor\": \"white\", \"showbackground\": true, \"ticks\": \"\", \"zerolinecolor\": \"white\"}, \"yaxis\": {\"backgroundcolor\": \"#E5ECF6\", \"gridcolor\": \"white\", \"gridwidth\": 2, \"linecolor\": \"white\", \"showbackground\": true, \"ticks\": \"\", \"zerolinecolor\": \"white\"}, \"zaxis\": {\"backgroundcolor\": \"#E5ECF6\", \"gridcolor\": \"white\", \"gridwidth\": 2, \"linecolor\": \"white\", \"showbackground\": true, \"ticks\": \"\", \"zerolinecolor\": \"white\"}}, \"shapedefaults\": {\"line\": {\"color\": \"#2a3f5f\"}}, \"ternary\": {\"aaxis\": {\"gridcolor\": \"white\", \"linecolor\": \"white\", \"ticks\": \"\"}, \"baxis\": {\"gridcolor\": \"white\", \"linecolor\": \"white\", \"ticks\": \"\"}, \"bgcolor\": \"#E5ECF6\", \"caxis\": {\"gridcolor\": \"white\", \"linecolor\": \"white\", \"ticks\": \"\"}}, \"title\": {\"x\": 0.05}, \"xaxis\": {\"automargin\": true, \"gridcolor\": \"white\", \"linecolor\": \"white\", \"ticks\": \"\", \"title\": {\"standoff\": 15}, \"zerolinecolor\": \"white\", \"zerolinewidth\": 2}, \"yaxis\": {\"automargin\": true, \"gridcolor\": \"white\", \"linecolor\": \"white\", \"ticks\": \"\", \"title\": {\"standoff\": 15}, \"zerolinecolor\": \"white\", \"zerolinewidth\": 2}}}, \"title\": {\"text\": \"Keyword Web Search Interest Over Time\"}, \"xaxis\": {\"anchor\": \"y\", \"domain\": [0.0, 1.0], \"title\": {\"text\": \"date\"}}, \"yaxis\": {\"anchor\": \"x\", \"domain\": [0.0, 1.0], \"title\": {\"text\": \"machine learning\"}}},\n",
              "                        {\"responsive\": true}\n",
              "                    ).then(function(){\n",
              "                            \n",
              "var gd = document.getElementById('925422f1-7361-454c-9e4f-8499f7108770');\n",
              "var x = new MutationObserver(function (mutations, observer) {{\n",
              "        var display = window.getComputedStyle(gd).display;\n",
              "        if (!display || display === 'none') {{\n",
              "            console.log([gd, 'removed!']);\n",
              "            Plotly.purge(gd);\n",
              "            observer.disconnect();\n",
              "        }}\n",
              "}});\n",
              "\n",
              "// Listen for the removal of the full notebook cells\n",
              "var notebookContainer = gd.closest('#notebook-container');\n",
              "if (notebookContainer) {{\n",
              "    x.observe(notebookContainer, {childList: true});\n",
              "}}\n",
              "\n",
              "// Listen for the clearing of the current output cell\n",
              "var outputEl = gd.closest('.output');\n",
              "if (outputEl) {{\n",
              "    x.observe(outputEl, {childList: true});\n",
              "}}\n",
              "\n",
              "                        })\n",
              "                };\n",
              "                \n",
              "            </script>\n",
              "        </div>\n",
              "</body>\n",
              "</html>"
            ]
          },
          "metadata": {}
        }
      ]
    },
    {
      "cell_type": "code",
      "metadata": {
        "colab": {
          "base_uri": "https://localhost:8080/",
          "height": 850
        },
        "id": "PBAqej9Yu9M4",
        "outputId": "52a411a1-a779-418a-8e50-44490cc539bf"
      },
      "source": [
        "pytrends.get_historical_interest(kw_list, \n",
        "                                 year_start=2021, \n",
        "                                 month_start=9, \n",
        "                                 day_start=1, \n",
        "                                 hour_start=0, \n",
        "                                 year_end=2021, \n",
        "                                 month_end=9, \n",
        "                                 day_end=30, \n",
        "                                 hour_end=0, \n",
        "                                 cat=0, \n",
        "                                 sleep=0)"
      ],
      "execution_count": null,
      "outputs": [
        {
          "output_type": "execute_result",
          "data": {
            "text/html": [
              "<div>\n",
              "<style scoped>\n",
              "    .dataframe tbody tr th:only-of-type {\n",
              "        vertical-align: middle;\n",
              "    }\n",
              "\n",
              "    .dataframe tbody tr th {\n",
              "        vertical-align: top;\n",
              "    }\n",
              "\n",
              "    .dataframe thead th {\n",
              "        text-align: right;\n",
              "    }\n",
              "</style>\n",
              "<table border=\"1\" class=\"dataframe\">\n",
              "  <thead>\n",
              "    <tr style=\"text-align: right;\">\n",
              "      <th></th>\n",
              "      <th>machine learning</th>\n",
              "      <th>isPartial</th>\n",
              "    </tr>\n",
              "    <tr>\n",
              "      <th>date</th>\n",
              "      <th></th>\n",
              "      <th></th>\n",
              "    </tr>\n",
              "  </thead>\n",
              "  <tbody>\n",
              "    <tr>\n",
              "      <th>2021-09-29 00:00:00</th>\n",
              "      <td>0</td>\n",
              "      <td>False</td>\n",
              "    </tr>\n",
              "    <tr>\n",
              "      <th>2021-09-29 01:00:00</th>\n",
              "      <td>0</td>\n",
              "      <td>False</td>\n",
              "    </tr>\n",
              "    <tr>\n",
              "      <th>2021-09-29 02:00:00</th>\n",
              "      <td>0</td>\n",
              "      <td>False</td>\n",
              "    </tr>\n",
              "    <tr>\n",
              "      <th>2021-09-29 03:00:00</th>\n",
              "      <td>0</td>\n",
              "      <td>False</td>\n",
              "    </tr>\n",
              "    <tr>\n",
              "      <th>2021-09-29 04:00:00</th>\n",
              "      <td>0</td>\n",
              "      <td>False</td>\n",
              "    </tr>\n",
              "    <tr>\n",
              "      <th>2021-09-29 05:00:00</th>\n",
              "      <td>0</td>\n",
              "      <td>False</td>\n",
              "    </tr>\n",
              "    <tr>\n",
              "      <th>2021-09-29 06:00:00</th>\n",
              "      <td>0</td>\n",
              "      <td>False</td>\n",
              "    </tr>\n",
              "    <tr>\n",
              "      <th>2021-09-29 07:00:00</th>\n",
              "      <td>0</td>\n",
              "      <td>False</td>\n",
              "    </tr>\n",
              "    <tr>\n",
              "      <th>2021-09-29 08:00:00</th>\n",
              "      <td>0</td>\n",
              "      <td>False</td>\n",
              "    </tr>\n",
              "    <tr>\n",
              "      <th>2021-09-29 09:00:00</th>\n",
              "      <td>0</td>\n",
              "      <td>False</td>\n",
              "    </tr>\n",
              "    <tr>\n",
              "      <th>2021-09-29 10:00:00</th>\n",
              "      <td>0</td>\n",
              "      <td>False</td>\n",
              "    </tr>\n",
              "    <tr>\n",
              "      <th>2021-09-29 11:00:00</th>\n",
              "      <td>0</td>\n",
              "      <td>False</td>\n",
              "    </tr>\n",
              "    <tr>\n",
              "      <th>2021-09-29 12:00:00</th>\n",
              "      <td>0</td>\n",
              "      <td>False</td>\n",
              "    </tr>\n",
              "    <tr>\n",
              "      <th>2021-09-29 13:00:00</th>\n",
              "      <td>0</td>\n",
              "      <td>False</td>\n",
              "    </tr>\n",
              "    <tr>\n",
              "      <th>2021-09-29 14:00:00</th>\n",
              "      <td>0</td>\n",
              "      <td>False</td>\n",
              "    </tr>\n",
              "    <tr>\n",
              "      <th>2021-09-29 15:00:00</th>\n",
              "      <td>0</td>\n",
              "      <td>False</td>\n",
              "    </tr>\n",
              "    <tr>\n",
              "      <th>2021-09-29 16:00:00</th>\n",
              "      <td>0</td>\n",
              "      <td>False</td>\n",
              "    </tr>\n",
              "    <tr>\n",
              "      <th>2021-09-29 17:00:00</th>\n",
              "      <td>0</td>\n",
              "      <td>False</td>\n",
              "    </tr>\n",
              "    <tr>\n",
              "      <th>2021-09-29 18:00:00</th>\n",
              "      <td>0</td>\n",
              "      <td>False</td>\n",
              "    </tr>\n",
              "    <tr>\n",
              "      <th>2021-09-29 19:00:00</th>\n",
              "      <td>0</td>\n",
              "      <td>False</td>\n",
              "    </tr>\n",
              "    <tr>\n",
              "      <th>2021-09-29 20:00:00</th>\n",
              "      <td>0</td>\n",
              "      <td>False</td>\n",
              "    </tr>\n",
              "    <tr>\n",
              "      <th>2021-09-29 21:00:00</th>\n",
              "      <td>0</td>\n",
              "      <td>False</td>\n",
              "    </tr>\n",
              "    <tr>\n",
              "      <th>2021-09-29 22:00:00</th>\n",
              "      <td>0</td>\n",
              "      <td>False</td>\n",
              "    </tr>\n",
              "    <tr>\n",
              "      <th>2021-09-29 23:00:00</th>\n",
              "      <td>0</td>\n",
              "      <td>False</td>\n",
              "    </tr>\n",
              "    <tr>\n",
              "      <th>2021-09-30 00:00:00</th>\n",
              "      <td>0</td>\n",
              "      <td>False</td>\n",
              "    </tr>\n",
              "  </tbody>\n",
              "</table>\n",
              "</div>"
            ],
            "text/plain": [
              "                     machine learning  isPartial\n",
              "date                                            \n",
              "2021-09-29 00:00:00                 0      False\n",
              "2021-09-29 01:00:00                 0      False\n",
              "2021-09-29 02:00:00                 0      False\n",
              "2021-09-29 03:00:00                 0      False\n",
              "2021-09-29 04:00:00                 0      False\n",
              "2021-09-29 05:00:00                 0      False\n",
              "2021-09-29 06:00:00                 0      False\n",
              "2021-09-29 07:00:00                 0      False\n",
              "2021-09-29 08:00:00                 0      False\n",
              "2021-09-29 09:00:00                 0      False\n",
              "2021-09-29 10:00:00                 0      False\n",
              "2021-09-29 11:00:00                 0      False\n",
              "2021-09-29 12:00:00                 0      False\n",
              "2021-09-29 13:00:00                 0      False\n",
              "2021-09-29 14:00:00                 0      False\n",
              "2021-09-29 15:00:00                 0      False\n",
              "2021-09-29 16:00:00                 0      False\n",
              "2021-09-29 17:00:00                 0      False\n",
              "2021-09-29 18:00:00                 0      False\n",
              "2021-09-29 19:00:00                 0      False\n",
              "2021-09-29 20:00:00                 0      False\n",
              "2021-09-29 21:00:00                 0      False\n",
              "2021-09-29 22:00:00                 0      False\n",
              "2021-09-29 23:00:00                 0      False\n",
              "2021-09-30 00:00:00                 0      False"
            ]
          },
          "metadata": {},
          "execution_count": 133
        }
      ]
    },
    {
      "cell_type": "code",
      "metadata": {
        "id": "eO69Ddrrvc4o"
      },
      "source": [
        ""
      ],
      "execution_count": null,
      "outputs": []
    },
    {
      "cell_type": "code",
      "metadata": {
        "id": "aFCIxw54wHv6"
      },
      "source": [
        ""
      ],
      "execution_count": null,
      "outputs": []
    },
    {
      "cell_type": "markdown",
      "metadata": {
        "id": "ud-NazMLwJDP"
      },
      "source": [
        ""
      ]
    }
  ]
}