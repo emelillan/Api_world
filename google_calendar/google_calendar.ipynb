{
 "cells": [
  {
   "cell_type": "code",
   "execution_count": 1,
   "metadata": {},
   "outputs": [],
   "source": [
    "from google.oauth2.credentials import Credentials\n",
    "from googleapiclient.discovery import build\n",
    "import datetime\n"
   ]
  },
  {
   "cell_type": "code",
   "execution_count": 2,
   "metadata": {},
   "outputs": [],
   "source": [
    "SCOPES = ['https://www.googleapis.com/auth/calendar.readonly']\n",
    "creds = Credentials.from_authorized_user_file('token.json', SCOPES)"
   ]
  },
  {
   "cell_type": "code",
   "execution_count": 3,
   "metadata": {},
   "outputs": [],
   "source": [
    "service = build('calendar', 'v3', credentials=creds)"
   ]
  },
  {
   "cell_type": "code",
   "execution_count": 4,
   "metadata": {},
   "outputs": [
    {
     "name": "stdout",
     "output_type": "stream",
     "text": [
      "Getting the upcoming 10 events\n"
     ]
    }
   ],
   "source": [
    "# Call the Calendar API\n",
    "now = datetime.datetime.utcnow().isoformat() + 'Z'  # 'Z' indicates UTC time\n",
    "print('Getting the upcoming 10 events')\n",
    "\n"
   ]
  },
  {
   "cell_type": "code",
   "execution_count": 5,
   "metadata": {},
   "outputs": [],
   "source": [
    "events_result = service.events().list(calendarId='primary', timeMin=now,\n",
    "                                        maxResults=10, singleEvents=True,\n",
    "                                        orderBy='startTime').execute()\n",
    "events = events_result.get('items', [])"
   ]
  },
  {
   "cell_type": "code",
   "execution_count": 6,
   "metadata": {},
   "outputs": [
    {
     "data": {
      "text/plain": [
       "{'kind': 'calendar#event',\n",
       " 'etag': '\"3160776817078000\"',\n",
       " 'id': '28396k821tgrsrool1pk1svpqu_20220107',\n",
       " 'status': 'confirmed',\n",
       " 'htmlLink': 'https://www.google.com/calendar/event?eid=MjgzOTZrODIxdGdyc3Jvb2wxcGsxc3ZwcXVfMjAyMjAxMDcgcmVjb2xldGFAcm9uZGFjb3dvcmtpbmcuY29t',\n",
       " 'created': '2020-01-30T12:46:48.000Z',\n",
       " 'updated': '2020-01-30T12:46:48.539Z',\n",
       " 'summary': 'vaciar heladera',\n",
       " 'creator': {'email': 'recoleta@rondacoworking.com', 'self': True},\n",
       " 'organizer': {'email': 'recoleta@rondacoworking.com', 'self': True},\n",
       " 'start': {'date': '2022-01-07'},\n",
       " 'end': {'date': '2022-01-08'},\n",
       " 'recurringEventId': '28396k821tgrsrool1pk1svpqu',\n",
       " 'originalStartTime': {'date': '2022-01-07'},\n",
       " 'transparency': 'transparent',\n",
       " 'iCalUID': '28396k821tgrsrool1pk1svpqu@google.com',\n",
       " 'sequence': 0,\n",
       " 'reminders': {'useDefault': False},\n",
       " 'eventType': 'default'}"
      ]
     },
     "execution_count": 6,
     "metadata": {},
     "output_type": "execute_result"
    }
   ],
   "source": [
    "events[0]"
   ]
  },
  {
   "cell_type": "code",
   "execution_count": 7,
   "metadata": {},
   "outputs": [
    {
     "name": "stdout",
     "output_type": "stream",
     "text": [
      "2022-01-07 vaciar heladera\n",
      "2022-01-07 contar la caja \n",
      "2022-01-07T07:30:00-03:00 VIENE FUMIGADOR\n",
      "2022-01-13T10:00:00-03:00 Desayuno Ronda\n",
      "2022-01-14 vaciar heladera\n",
      "2022-01-14 contar la caja \n",
      "2022-01-21 vaciar heladera\n",
      "2022-01-21 contar la caja \n",
      "2022-01-27T10:00:00-03:00 Desayuno Ronda\n",
      "2022-01-28 vaciar heladera\n"
     ]
    }
   ],
   "source": [
    "if not events:\n",
    "    print('No upcoming events found.')\n",
    "for event in events:\n",
    "    start = event['start'].get('dateTime', event['start'].get('date'))\n",
    "    print(start, event['summary'])"
   ]
  },
  {
   "cell_type": "code",
   "execution_count": null,
   "metadata": {},
   "outputs": [],
   "source": []
  }
 ],
 "metadata": {
  "interpreter": {
   "hash": "b8bc840ac9d56a56b7ba8d2a1fc80d85ec8999dcfcbdba0c459f37c53b8cc4da"
  },
  "kernelspec": {
   "display_name": "Python 3.9.5 64-bit ('env': venv)",
   "language": "python",
   "name": "python3"
  },
  "language_info": {
   "codemirror_mode": {
    "name": "ipython",
    "version": 3
   },
   "file_extension": ".py",
   "mimetype": "text/x-python",
   "name": "python",
   "nbconvert_exporter": "python",
   "pygments_lexer": "ipython3",
   "version": "3.9.5"
  },
  "orig_nbformat": 4
 },
 "nbformat": 4,
 "nbformat_minor": 2
}
